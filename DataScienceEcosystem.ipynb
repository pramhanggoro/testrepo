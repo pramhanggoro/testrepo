{
 "cells": [
  {
   "cell_type": "markdown",
   "id": "8ef7b8c9-6d82-4b6b-b663-975b37881d4b",
   "metadata": {},
   "source": [
    "# Data Science Tools and Ecosystem"
   ]
  },
  {
   "cell_type": "markdown",
   "id": "2435c0dd-1883-4025-a439-6750134b9b3a",
   "metadata": {},
   "source": [
    "## Author\n",
    "Prameswara Hanggoro"
   ]
  },
  {
   "cell_type": "markdown",
   "id": "13f4541e-8daf-4886-a564-196e5625ef53",
   "metadata": {},
   "source": [
    "In this notebook, Data Science Tools and Ecosystem are summarized."
   ]
  },
  {
   "cell_type": "markdown",
   "id": "4854874c-5f4a-4a89-8a13-fbd0a519470d",
   "metadata": {},
   "source": [
    "Objectives:\n",
    "- list popular languages in data science,\n",
    "- list commonly used libraries in data science,\n",
    "- list tools used in data science,\n",
    "- show and perform few arithmetic examples in Jupyter Notebook"
   ]
  },
  {
   "cell_type": "markdown",
   "id": "566a53b7-b3fd-4e76-899d-8ed2c2e45349",
   "metadata": {},
   "source": [
    "Some of the popular languages that Data Scientists use are:\n",
    "1. Python\n",
    "2. Julia\n",
    "3. R\n",
    "4. SQL"
   ]
  },
  {
   "cell_type": "markdown",
   "id": "5a4b092b-1813-4f80-ba00-ae9dd3335d2c",
   "metadata": {},
   "source": [
    "Some of the commonly used libraries used by Data Scientists include:\n",
    "1. pandas\n",
    "2. numpy\n",
    "3. matplotlib\n",
    "4. seaborn"
   ]
  },
  {
   "cell_type": "markdown",
   "id": "fb2167a8-ac33-42a6-a8d5-d95806d857b9",
   "metadata": {},
   "source": [
    "|Data Science Tools|\n",
    "|----------|\n",
    "|Jupyter Notebook|\n",
    "|R Studio|\n",
    "|VS Code|"
   ]
  },
  {
   "cell_type": "markdown",
   "id": "125d2e8b-10fe-4272-aec1-f8ddca38468d",
   "metadata": {},
   "source": [
    "### Below are a few examples of evaluating arithmetic expressions in Python."
   ]
  },
  {
   "cell_type": "code",
   "execution_count": 3,
   "id": "59190332-9fcc-40b9-aee0-89b08490ad09",
   "metadata": {},
   "outputs": [
    {
     "name": "stdout",
     "output_type": "stream",
     "text": [
      "17\n"
     ]
    }
   ],
   "source": [
    "# This a simple arithmetic expression to multiply then add integers\n",
    "x = (3*4)+5\n",
    "print(x)"
   ]
  },
  {
   "cell_type": "code",
   "execution_count": 9,
   "id": "50314b6e-7cc8-4d39-98fd-5d9cdb22301e",
   "metadata": {},
   "outputs": [
    {
     "name": "stdout",
     "output_type": "stream",
     "text": [
      "200 minutes is equal to  3.3333333333333335  hours\n"
     ]
    }
   ],
   "source": [
    "# This will convert 200 minutes to hours by diving by 60\n",
    "def minuteconversion(mins):\n",
    "    return mins/60\n",
    "\n",
    "arith2 = minuteconversion(200)\n",
    "print(\"200 minutes is equal to \", arith2, \" hours\")"
   ]
  },
  {
   "cell_type": "code",
   "execution_count": null,
   "id": "3982aee9-dc86-4f0f-a45e-c0f596bdddff",
   "metadata": {},
   "outputs": [],
   "source": []
  }
 ],
 "metadata": {
  "kernelspec": {
   "display_name": "Python 3 (ipykernel)",
   "language": "python",
   "name": "python3"
  },
  "language_info": {
   "codemirror_mode": {
    "name": "ipython",
    "version": 3
   },
   "file_extension": ".py",
   "mimetype": "text/x-python",
   "name": "python",
   "nbconvert_exporter": "python",
   "pygments_lexer": "ipython3",
   "version": "3.12.8"
  }
 },
 "nbformat": 4,
 "nbformat_minor": 5
}
